{
 "cells": [
  {
   "cell_type": "code",
   "execution_count": 1,
   "metadata": {
    "collapsed": true
   },
   "outputs": [],
   "source": [
    "    reddit_urls = [\n",
    "        'https://www.reddit.com/r/peloton/',\n",
    "        'https://www.reddit.com/r/datascience/',\n",
    "        'https://www.reddit.com/r/python/'\n",
    "    ]\n"
   ]
  },
  {
   "cell_type": "code",
   "execution_count": 5,
   "metadata": {
    "collapsed": false
   },
   "outputs": [
    {
     "data": {
      "text/plain": [
       "['https://www.reddit.com/r/peloton/?sort=top&t=week',\n",
       " 'https://www.reddit.com/r/datascience/?sort=top&t=week',\n",
       " 'https://www.reddit.com/r/python/?sort=top&t=week']"
      ]
     },
     "execution_count": 5,
     "metadata": {},
     "output_type": "execute_result"
    }
   ],
   "source": [
    "[x + '?sort=top&t=week' for x in reddit_urls]"
   ]
  },
  {
   "cell_type": "code",
   "execution_count": 7,
   "metadata": {
    "collapsed": false
   },
   "outputs": [
    {
     "data": {
      "text/plain": [
       "<generator object <genexpr> at 0x10492d678>"
      ]
     },
     "execution_count": 7,
     "metadata": {},
     "output_type": "execute_result"
    }
   ],
   "source": [
    "# since i love generators\n",
    "(x + '?sort=top&t=week' for x in reddit_urls)"
   ]
  },
  {
   "cell_type": "code",
   "execution_count": null,
   "metadata": {
    "collapsed": true
   },
   "outputs": [],
   "source": []
  },
  {
   "cell_type": "code",
   "execution_count": 2,
   "metadata": {
    "collapsed": false
   },
   "outputs": [],
   "source": [
    "    reddit_urls = [\n",
    "        ('datascience', 'week'),\n",
    "        ('python', 'week'),\n",
    "        ('programming', 'week'),\n",
    "    ]\n",
    "\n",
    "    #period = 'week'\n",
    "    start_urls = ['https://www.reddit.com/r/' + sub + '/top/?sort=top&t=' + period \\\n",
    "        for sub, period in reddit_urls]"
   ]
  },
  {
   "cell_type": "code",
   "execution_count": 3,
   "metadata": {
    "collapsed": false
   },
   "outputs": [
    {
     "data": {
      "text/plain": [
       "['https://www.reddit.com/r/datascience/top/?sort=top&t=week',\n",
       " 'https://www.reddit.com/r/python/top/?sort=top&t=week',\n",
       " 'https://www.reddit.com/r/programming/top/?sort=top&t=week']"
      ]
     },
     "execution_count": 3,
     "metadata": {},
     "output_type": "execute_result"
    }
   ],
   "source": [
    "start_urls"
   ]
  },
  {
   "cell_type": "code",
   "execution_count": null,
   "metadata": {
    "collapsed": true
   },
   "outputs": [],
   "source": []
  }
 ],
 "metadata": {
  "kernelspec": {
   "display_name": "Python 3",
   "language": "python",
   "name": "python3"
  },
  "language_info": {
   "codemirror_mode": {
    "name": "ipython",
    "version": 3
   },
   "file_extension": ".py",
   "mimetype": "text/x-python",
   "name": "python",
   "nbconvert_exporter": "python",
   "pygments_lexer": "ipython3",
   "version": "3.5.2"
  }
 },
 "nbformat": 4,
 "nbformat_minor": 2
}
